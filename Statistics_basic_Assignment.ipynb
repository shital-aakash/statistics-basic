{
  "nbformat": 4,
  "nbformat_minor": 0,
  "metadata": {
    "colab": {
      "provenance": []
    },
    "kernelspec": {
      "name": "python3",
      "display_name": "Python 3"
    },
    "language_info": {
      "name": "python"
    }
  },
  "cells": [
    {
      "cell_type": "markdown",
      "source": [
        "# **STATISTICS** **BASIC** **ASSIGNMENT**"
      ],
      "metadata": {
        "id": "l62930Sitalb"
      }
    },
    {
      "cell_type": "markdown",
      "source": [
        "# **THEORY** **QUESTIONS**"
      ],
      "metadata": {
        "id": "UxmEQ-FXtPPv"
      }
    },
    {
      "cell_type": "markdown",
      "source": [
        "Que.1 What is statistics, and why is it important?\n",
        "\n",
        "   -> Statistics is the science of collecting, analyzing, interpreting, and\n",
        "      presenting data. It's crucial because it provides a framework for understanding and making informed decisions based on data, whether in scientific research, business, or daily life.\n",
        "      \n",
        "      why statistics is important:\n",
        "\n",
        "      Understanding Data:\n",
        "      Statistics helps us make sense of large datasets and identify\n",
        "      patterns and trends that might otherwise be hidden.\n",
        "\n",
        "      Making Informed Decisions:\n",
        "      By analyzing data, we can make better decisions in various aspects\n",
        "      of life, from investing to public policy.\n",
        "\n",
        "      Conducting Research:\n",
        "      Statistics is essential for designing experiments, collecting data,\n",
        "      and analyzing results to draw meaningful conclusions in scientific research.\n",
        "\n",
        "      Critical Thinking:\n",
        "      Learning statistics develops critical thinking skills, enabling\n",
        "      us to evaluate the quality of data analysis and avoid misleading conclusions.\n",
        "\n",
        "      Communication:\n",
        "      Statistics provides tools for effectively communicating data and\n",
        "      its insights to others.\n",
        "\n",
        "      Diverse Applications:\n",
        "      Statistics is used across many fields, including medicine,\n",
        "      economics, engineering, and social sciences, to address real-world problems."
      ],
      "metadata": {
        "id": "CS54G-nt01e8"
      }
    },
    {
      "cell_type": "markdown",
      "source": [
        "Que.2 What are the two main types of statistics?\n",
        "\n",
        "   -> The two main types of statistics are descriptive statistics and\n",
        "      inferential statistics.\n",
        "      1. Descriptive Statistics\n",
        "      2.Inferential Statistics\n",
        "\n",
        "      Descriptive Statistics:\n",
        "      This type of statistics is used to summarize and describe the\n",
        "      key features of a dataset. It provides simple summaries like\n",
        "      averages, standard deviations, and graphical representations of the data.\n",
        "      For example, calculating the average age of students in a\n",
        "      classroom or creating a histogram to visualize the distribution of\n",
        "      test scores.\n",
        "\n",
        "\n",
        "      Inferential Statistics:\n",
        "      This type of statistics uses data from a sample to make inferences\n",
        "      or draw conclusions about a larger population. It involves\n",
        "      techniques like hypothesis testing, regression analysis, and\n",
        "      confidence intervals to estimate population parameters.\n",
        "      For instance, using survey results from a sample of voters to\n",
        "      predict the outcome of an election.\n"
      ],
      "metadata": {
        "id": "zZXMt9rF05PV"
      }
    },
    {
      "cell_type": "markdown",
      "source": [
        "Que.3 What are descriptive statistics?\n",
        "\n",
        "   -> Descriptive statistics is one of the approaches for realizing  \n",
        "      descriptive analytics. It is a collection of tools that quantitatively describes the data in summary and graphical forms. Such tools compute measures of central tendency and dispersion. Mean, median, and mode are commonly used measures of central tendency.\n",
        "      There are four main types of descriptive statistics: measures of frequency, central tendency, variability or dispersion, and measures of position. The most commonly reported descriptive statistics are the mean and range.\n",
        "      The descriptive statistics examples are given as follows: Suppose the marks of students belonging to class A are {70, 85, 90, 65) and class B are {60, 40, 89, 96}. Then the average marks of each class can be given by the mean as 77.5 and 71.25. This denotes that the average of class A is more than class B."
      ],
      "metadata": {
        "id": "N2tYYM6G1BvC"
      }
    },
    {
      "cell_type": "markdown",
      "source": [
        "Que.4 What is inferential statistics?\n",
        "\n",
        "  -> This type of statistics uses data from a sample to make inferences\n",
        "     or draw conclusions about a larger population. It involves\n",
        "     techniques like hypothesis testing, regression analysis, and\n",
        "     confidence intervals to estimate population parameters.\n",
        "     For instance, using survey results from a sample of voters to\n",
        "     predict the outcome of an election.\n",
        "     Inferential statistics have two main uses: making estimates about populations (for example, the mean SAT score of all 11th graders in the US). testing hypotheses to draw conclusions about populations (for example, the relationship between SAT scores and family income)."
      ],
      "metadata": {
        "id": "5ZKALr7k1Jqg"
      }
    },
    {
      "cell_type": "markdown",
      "source": [
        "Que.5 What is sampling in statistics?\n",
        "\n",
        "  ->  Sampling means selecting the group that you will actually collect data\n",
        "      from in your research. For example, if you are researching the opinions of students in your university, you could survey a sample of 100 students. In statistics, sampling allows you to test a hypothesis about the characteristics of a population.\n",
        "      In statistics, sampling is the process of selecting a subset (called a sample) from a larger group (called the population) in order to make inferences or draw conclusions about the population without having to study the whole group.\n",
        "      "
      ],
      "metadata": {
        "id": "76Dd94_P1O7R"
      }
    },
    {
      "cell_type": "markdown",
      "source": [
        "Que.6 What are the different types of sampling methods?\n",
        "\n",
        "  ->  Sampling methods can be broadly categorized into probability sampling  \n",
        "      and non-probability sampling. Probability sampling ensures every member of the population has a chance of being selected, while non-probability sampling relies on subjective judgment or convenience. Within these categories, various techniques exist, each with its strengths and weaknesses for different research goals.\n",
        "\n",
        "      Probability Sampling:\n",
        "      Simple Random Sampling:\n",
        "      Each member of the population has an equal chance of being\n",
        "      selected. This can be achieved using random number generators or\n",
        "      lottery methods.\n",
        "\n",
        "      Systematic Sampling:\n",
        "      A sample is selected at regular intervals from a list or database.\n",
        "      For example, every 10th person on a list could be chosen.\n",
        "\n",
        "      Stratified Sampling:\n",
        "      The population is divided into subgroups (strata) based on\n",
        "      relevant characteristics, and then a random sample is drawn from\n",
        "      each subgroup. This ensures representation of different segments\n",
        "      within the population.\n",
        "\n",
        "      Cluster Sampling:\n",
        "      The population is divided into clusters, and then a random sample\n",
        "      of clusters is selected. All members within the selected clusters\n",
        "      are included in the sample.\n",
        "\n",
        "      Multistage Sampling:\n",
        "      This combines multiple sampling techniques, often starting with\n",
        "      cluster sampling and then using other probability sampling\n",
        "      methods within the selected clusters.\n",
        "\n",
        "      Non-Probability Sampling:\n",
        "      Convenience Sampling:\n",
        "      Participants are selected based on their availability and ease\n",
        "      of access. This is often used for pilot studies or when time\n",
        "      and resources are limited.\n",
        "       \n",
        "      Quota Sampling:\n",
        "      The population is divided into subgroups based on specific characteristics,\n",
        "      and a quota is set for each subgroup. Participants are selected\n",
        "      until the quotas are filled, often using convenience sampling\n",
        "      methods within each subgroup.\n",
        "\n",
        "      Purposive Sampling:\n",
        "      Participants are selected based on their specific knowledge,\n",
        "      expertise, or characteristics relevant to the research question.\n",
        "      This is often used in qualitative research.\n",
        "\n",
        "      Snowball Sampling:\n",
        "      Initial participants are recruited, and then they are asked to\n",
        "      refer other participants who fit the research criteria. This is\n",
        "      useful for studying hard-to-reach populations.\n",
        "\n",
        "      Voluntary Response Sampling:\n",
        "      Participants self-select to participate in the study, often seen\n",
        "      in online surveys or call-in polls."
      ],
      "metadata": {
        "id": "mUVzZX1T1dtF"
      }
    },
    {
      "cell_type": "markdown",
      "source": [
        "Que.7 What is the difference between random and non-random sampling?\n",
        "\n",
        "   -> The key difference between random and non-random sampling lies in the\n",
        "      selection process. Random sampling ensures that each member of the population has an equal chance of being selected, minimizing bias and allowing for stronger statistical inferences about the whole population. Non-random sampling, on the other hand, relies on factors other than chance, such as convenience, judgment, or specific criteria set by the researcher, and is therefore more prone to bias.\n",
        "\n",
        "   A.Random Sampling (Probability Sampling):\n",
        "\n",
        "       1.Involves selecting samples randomly, where each member of the\n",
        "         population has a known and equal probability of being chosen.\n",
        "\n",
        "       2.Examples include simple random sampling,\n",
        "         systematic sampling, stratified sampling, and cluster sampling.\n",
        "\n",
        "       3.Allows for stronger statistical inferences about the population\n",
        "         because the sample is more likely to be representative.\n",
        "\n",
        "       4.Helps minimize bias and ensures more reliable results.\n",
        "\n",
        "   B. Non-Random Sampling (Non-Probability Sampling):\n",
        "   \n",
        "        1.Involves selecting samples based on factors other than random  \n",
        "          chance, such as convenience, judgment, or specific criteria.\n",
        "\n",
        "        2.Examples include convenience sampling, purposive sampling,\n",
        "          snowball sampling, and quota sampling.\n",
        "\n",
        "        3.Can be less time-consuming and less expensive than\n",
        "          random sampling, making it useful when a complete list of the population is not available.\n",
        "\n",
        "        4.May be biased because the sample is not necessarily representative  \n",
        "         of the population.\n"
      ],
      "metadata": {
        "id": "sMgL5d6l1ow6"
      }
    },
    {
      "cell_type": "markdown",
      "source": [
        "Que.8 Define and give examples of qualitative and quantitative data?\n",
        "\n",
        "  ->  Qualitative Data:\n",
        "      Definition:\n",
        "      Qualitative data describes qualities, characteristics, or attributes that cannot be easily measured numerically.\n",
        "\n",
        "      Examples:\n",
        "      Descriptions:\n",
        "      A description of a person's eye color, hair color, or overall appearance.\n",
        "\n",
        "      Survey responses:\n",
        "      Open-ended survey questions that allow respondents to write detailed answers.\n",
        "\n",
        "      Interviews:\n",
        "      Transcripts of interviews where people share their thoughts and experiences.\n",
        "\n",
        "      Observations:\n",
        "      Notes taken from observing a behavior or event.\n",
        "\n",
        "      Narratives:\n",
        "      Stories or accounts of events.\n",
        "\n",
        "      Quantitative Data:\n",
        "      Definition: Quantitative data is numerical and can be measured\n",
        "                  objectively.\n",
        "\n",
        "      Examples:\n",
        "      Measurements: Height, weight, age, temperature.\n",
        "      Counts: Number of items, number of people, number of events.\n",
        "      Test scores: Scores on tests or assessments.\n",
        "      Sales figures: Revenue generated from sales.\n",
        "      Website traffic: Number of visitors to a website."
      ],
      "metadata": {
        "id": "bTHnnaCR1w9B"
      }
    },
    {
      "cell_type": "markdown",
      "source": [
        "Que.9 What are the different types of data in statistics?\n",
        "\n",
        "  ->  In statistics, data is broadly categorized into two main types:\n",
        "      qualitative (or categorical) and quantitative (or numerical). Qualitative data describes qualities or attributes, while quantitative data represents measurable values. Quantitative data can be further divided into discrete and continuous data.\n",
        "\n",
        "      1. Qualitative (Categorical) Data:\n",
        "         Nominal Data:\n",
        "         This data type represents categories or labels with no\n",
        "         inherent order or ranking, such as colors (red, blue, green),\n",
        "         or types of fruits (apple, banana, orange).\n",
        "\n",
        "         Ordinal Data:\n",
        "         This data type represents categories with a meaningful order or ranking,\n",
        "         such as survey responses (strongly agree, agree, neutral,\n",
        "         disagree, strongly disagree), or rankings of athletes in a race.\n",
        "\n",
        "      2. Quantitative (Numerical) Data:\n",
        "         Discrete Data:\n",
        "         This data type represents countable values, such as\n",
        "         the number of students in a class, or the number of cars in a parking lot.\n",
        "\n",
        "         Continuous Data:\n",
        "         This data type represents values that can take on any value\n",
        "         within a range, such as temperature, height, or weight."
      ],
      "metadata": {
        "id": "C_I7y5uM16sx"
      }
    },
    {
      "cell_type": "markdown",
      "source": [
        "Que.10 Explain nominal, ordinal, interval, and ratio levels of measurement?\n",
        "\n",
        "   ->  The four levels of measurement are nominal, ordinal, interval, and\n",
        "       ratio. Nominal data involves categorizing data with no inherent order, like colors or genders. Ordinal data allows for categorization and ranking, such as a survey ranking from \"poor\" to \"excellent\". Interval data can be categorized, ranked, and has equal intervals, like temperature on the Celsius scale. Ratio data, the highest level, has all the properties of interval data plus a true zero point, such as weight or length.\n",
        "\n",
        "       1. Nominal:\n",
        "          Definition:\n",
        "          Nominal data involves categorizing data into distinct groups\n",
        "           or categories without any specific order or ranking.\n",
        "          Example:\n",
        "          Gender (male, female), types of fruits (apple, orange, banana),\n",
        "           or eye color (blue, brown, green).\n",
        "          Key Feature:\n",
        "          Nominal data can only be used for counting and\n",
        "          determining frequencies within each category.\n",
        "\n",
        "       2. Ordinal:\n",
        "          Definition:\n",
        "          Ordinal data involves categorizing and ranking data in a\n",
        "          meaningful order, but the intervals between the categories\n",
        "          may not be equal.\n",
        "          Example:\n",
        "          Survey responses like \"strongly agree,\" \"agree,\"\n",
        "          \"neutral,\" \"disagree,\" or \"strongly disagree,\" or educational levels\n",
        "          like \"high school,\" \"college,\" \"graduate\".\n",
        "          Key Feature:\n",
        "          You can determine the order of the data, but not the\n",
        "          magnitude of the differences between the categories.\n",
        "            \n",
        "        3. Interval:\n",
        "           Definition:\n",
        "           Interval data involves categorizing, ranking, and having\n",
        "           equal intervals between data points, but it doesn't have\n",
        "           a true zero point.\n",
        "           Example:\n",
        "           Temperature in Celsius or Fahrenheit, calendar years.\n",
        "           Key Feature:\n",
        "           You can calculate the difference between two values, but\n",
        "           ratios are not meaningful because zero is arbitrary.\n",
        "\n",
        "        4. Ratio:\n",
        "           Definition:\n",
        "           Ratio data involves categorizing, ranking, having equal\n",
        "           intervals, and having a true zero point, allowing for meaningful ratios.\n",
        "           Example:\n",
        "           Height, weight, distance, income.\n",
        "           Key Feature:\n",
        "           You can calculate the ratio between two values, and a\n",
        "           zero point indicates the absence of the measured quantity.\n"
      ],
      "metadata": {
        "id": "tIHlCjJA2D9x"
      }
    },
    {
      "cell_type": "markdown",
      "source": [
        "Que.11 What is the measure of central tendency?\n",
        "\n",
        "  ->   The representative value of a data set, generally the central value or\n",
        "       the most occurring value that gives a general idea of the whole data set is called Measure of Central Tendency.\n",
        "       A measure of central tendency (also referred to as measures of centre or central location) is a summary measure that attempts to describe a whole set of data with a single value that represents the middle or centre of its distribution.\n",
        "\n",
        "       There are commonly used Three types of Measure of central tendency\n",
        "       1.Mean\n",
        "       2.Median\n",
        "       3.Mode"
      ],
      "metadata": {
        "id": "xH3PPQja2K6g"
      }
    },
    {
      "cell_type": "markdown",
      "source": [
        "Que.12 Define mean, median, and mode?\n",
        "\n",
        "   ->  The mean is the average of a set of numbers, calculated by summing the\n",
        "       numbers and dividing by the count of numbers. The median is the middle value when a set of numbers is ordered from least to greatest. The mode is the value that appears most often in a set of numbers.\n",
        "\n",
        "       Mean (Average):\n",
        "       The mean is the average of a set of numbers.\n",
        "       It's calculated by adding all the numbers together and then\n",
        "       dividing by the total count of numbers.\n",
        "\n",
        "       Median:\n",
        "       The median is the middle value in a set of numbers when they\n",
        "       are arranged in ascending order.\n",
        "       If there's an even number of values, the median is the average\n",
        "       of the two middle values.\n",
        "\n",
        "       Mode:\n",
        "       The mode is the value that appears most frequently in a set of numbers.\n",
        "       There can be multiple modes, or no mode, if no value is repeated\n",
        "       more than others."
      ],
      "metadata": {
        "id": "Ennm8OJ62RAS"
      }
    },
    {
      "cell_type": "markdown",
      "source": [
        "Que.13 What is the significance of the measure of central tendency?\n",
        "\n",
        "  ->   Measures of central tendency, like mean, median, and mode, are crucial\n",
        "       for summarizing and understanding data by providing a single, representative value that describes the \"center\" or typical value of a dataset. They help us grasp the overall characteristics of a dataset quickly and efficiently.\n",
        "\n",
        "       Here's a more detailed explanation:\n",
        "       1. Providing a Representative Value: Measures of central\n",
        "       tendency provide a single value that represents the entire\n",
        "       dataset, making it easier to understand and compare different\n",
        "       datasets.\n",
        "       For example, the mean salary of employees in a company can\n",
        "       be a representative value, even though individual salaries might vary.\n",
        "         \n",
        "       2. Summarizing Data: They condense a large amount of data\n",
        "       into a single, meaningful value, allowing for easier analysis\n",
        "       and interpretation. This is particularly useful when dealing with\n",
        "       large datasets or complex relationships.\n",
        "\n",
        "       3. Facilitating Comparisons: Measures of central tendency allow\n",
        "       for comparisons between different groups or datasets.\n",
        "       For instance, comparing the mean test scores of two different\n",
        "       classes can reveal which class performed better overall.\n",
        "\n",
        "       4. Basis for Further Analysis: They serve as a starting point for\n",
        "       more in-depth statistical analysis, such as calculating measures\n",
        "       of variability or performing statistical tests.\n",
        "\n",
        "       5. Understanding Data Distribution: While central tendency focuses\n",
        "        on the center, understanding the distribution of data\n",
        "        (how it is spread out) is also important. Measures like mean,\n",
        "        median, and mode provide insights into the shape and\n",
        "        characteristics of the distribution.\n",
        "\n",
        "       In essence, measures of central tendency are essential for:\n",
        "\n",
        "       Describing data:\n",
        "       They provide a concise summary of the central or typical value\n",
        "       within a dataset.\n",
        "\n",
        "       Facilitating comparison:\n",
        "       They allow for easy comparison of different datasets or groups.\n",
        "\n",
        "       Underlying further analysis:\n",
        "       They serve as a foundation for more advanced statistical methods."
      ],
      "metadata": {
        "id": "Kozz5udx2aTp"
      }
    },
    {
      "cell_type": "markdown",
      "source": [
        "Que.14 What is variance, and how is it calculated?\n",
        "\n",
        "   ->  Variance is a statistical measure that quantifies the spread or\n",
        "       dispersion of a set of data points from their mean (average). It's calculated by finding the average of the squared differences between each data point and the mean.\n",
        "\n",
        "       Here's a step-by-step breakdown of how to calculate variance:\n",
        "       1.Calculate the mean (average): Sum all the data points and\n",
        "         divide by the total number of data points.\n",
        "\n",
        "       2.Find the difference between each data point and the mean: Subtract  \n",
        "         the mean from each individual data point.\n",
        "\n",
        "       3.Square each difference: Square the result of each difference\n",
        "         calculated in step 2.\n",
        "\n",
        "       4.Sum the squared differences: Add up all the squared differences.\n",
        "\n",
        "       5.Divide by the number of data points (population variance): Divide the\n",
        "         sum of squared differences by the total number of data\n",
        "         points (n) for population variance.\n",
        "\n",
        "       6.Alternatively, divide by (n-1) for sample variance: If calculating  \n",
        "         the variance of a sample (a subset of the entire population),\n",
        "         divide the sum of squared differences by (n-1). This is known\n",
        "         as the \"sample variance\" and provides a better estimate of\n",
        "         the population variance, according to Investopedia."
      ],
      "metadata": {
        "id": "rW3TdK_v2d1s"
      }
    },
    {
      "cell_type": "markdown",
      "source": [
        "Que.15 What is standard deviation, and why is it important?\n",
        "\n",
        "   ->  Standard deviation is a measure of how spread out a set of data is in\n",
        "       relation to its mean (average). A low standard deviation indicates that the data points are clustered closely around the mean, while a high standard deviation means the data is more spread out. It's important because it provides information about the variability or dispersion within a dataset, helping to understand the consistency or predictability of the data.\n",
        "\n",
        "       What it is:\n",
        "       Standard deviation quantifies the average distance of each data\n",
        "       point from the mean.\n",
        "       A small standard deviation means most data points are close to\n",
        "       the average, while a large standard deviation means they're farther away.\n",
        "       It's calculated as the square root of the variance.\n",
        "       It's a widely used measure of dispersion in statistics.\n",
        "\n",
        "       Why it's important:\n",
        "       Measures Variability:\n",
        "       It helps understand how much data varies or fluctuates around its average.\n",
        "\n",
        "       Data Interpretation:\n",
        "       It allows for a more thorough understanding of the spread of\n",
        "       data, especially when comparing different datasets.\n",
        "\n",
        "       Risk Assessment:\n",
        "       In finance, standard deviation is used to assess the volatility\n",
        "       of investments.\n",
        "\n",
        "       Quality Control: In industries, it helps monitor the consistency\n",
        "       of products or processes.\n",
        "\n",
        "       Statistical Significance: It's used in hypothesis testing\n",
        "       and determining if observed differences between groups\n",
        "        are statistically significant.\n",
        "\n",
        "       Outlier Detection: It can help identify data points that\n",
        "       are significantly different from the rest, which may be outliers.  \n",
        "\n"
      ],
      "metadata": {
        "id": "QFmcYUn42oru"
      }
    },
    {
      "cell_type": "markdown",
      "source": [
        "Que.16 Define and explain the term range in statistics?\n",
        "\n",
        "   ->  The range is the difference between the highest and lowest values  \n",
        "       within a set of numbers. To calculate range, subtract the smallest number from the largest number in the set.\n",
        "       In statistics, the range is a measure of variability that represents the spread of a dataset. It's calculated as the difference between the highest and lowest values in the dataset.\n",
        "\n",
        "       Measure of Spread:\n",
        "       The range helps to understand how much the data points vary from each other.\n",
        "\n",
        "       Calculation:\n",
        "       To find the range, you simply subtract the smallest value from\n",
        "       the largest value in the dataset.\n",
        "\n",
        "       Example:\n",
        "       If a dataset contains the values 5, 10, 15, 20, and 25, the range\n",
        "       would be 25 - 5 = 20.\n",
        "\n",
        "       Limitations:\n",
        "       The range is a simple measure of variability but can be\n",
        "       heavily influenced by outliers (extreme values). A single outlier\n",
        "       can significantly increase the range, even if the rest of the data\n",
        "       is tightly clustered.\n",
        "\n",
        "       Other Measures of Variability:\n",
        "       Other measures of variability, such as standard deviation and\n",
        "       variance, are more robust to outliers and provide a more\n",
        "       comprehensive picture of data spread."
      ],
      "metadata": {
        "id": "_Xa07Mrj2w1Z"
      }
    },
    {
      "cell_type": "markdown",
      "source": [
        "Que.17 What is the difference between variance and standard deviation?\n",
        "\n",
        "   ->  Variance and standard deviation are both measures of how spread out  \n",
        "       data is, but they differ in how they are calculated and what they represent. Variance is the average of the squared differences from the mean, while standard deviation is the square root of the variance. Standard deviation is expressed in the same units as the original data, making it easier to interpret, while variance is in squared units.\n",
        "\n",
        "       Variance:\n",
        "       1.Measures the average squared distance of data points from the mean.\n",
        "       2.Is expressed in squared units, which can be difficult to interpret\n",
        "         in the same context as the original data.\n",
        "       3.A higher variance indicates greater spread or dispersion in the data.\n",
        "         Useful in statistical tests like variance tests and ANOVA.\n",
        "\n",
        "\n",
        "       Standard Deviation:\n",
        "       1.Is the square root of the variance.\n",
        "       2.Is expressed in the same units as the original data, making it\n",
        "       more intuitive to understand.\n",
        "       3.A higher standard deviation indicates greater spread or\n",
        "       dispersion from the mean.\n",
        "       4.Used to describe the distribution of data around the mean,\n",
        "       especially in conjunction with the mean in normal distributions.\n",
        "       Used to identify outliers and assess how well data fits a\n",
        "        normal distribution.\n"
      ],
      "metadata": {
        "id": "A01cBfMr23Eh"
      }
    },
    {
      "cell_type": "markdown",
      "source": [
        "Que.18 What is skewness in a dataset?\n",
        "\n",
        "   ->  Skewness in a dataset refers to the degree of asymmetry in its\n",
        "       distribution. It describes whether the data is clustered more towards one side of the mean than the other, indicating that the distribution is not symmetrical. A dataset with a right-skew (positive skew) has a long tail extending to the right, while a left-skew (negative skew) has a long tail to the left.\n",
        "       Skewness in statistics represents an imbalance and asymmetry from the mean of a data distribution. In a normal data distribution with a symmetrical bell curve, the mean and median are the same. In a skewed data distribution, the median and the mean are different values.\n",
        "\n",
        "       Symmetrical Distribution:\n",
        "       In a perfectly symmetrical distribution, the mean, median,\n",
        "       and mode are all equal, and the data is evenly spread around the center.\n",
        "\n",
        "       Positive Skew (Right Skew):\n",
        "       A dataset with a positive skew has a longer tail on the right\n",
        "       side of the distribution. This means that there are more extreme\n",
        "       values on the right side, and the mean is typically greater than the median.\n",
        "\n",
        "       Negative Skew (Left Skew):\n",
        "       A dataset with a negative skew has a longer tail on the left side.\n",
        "       This indicates more extreme values on the left, and the mean is\n",
        "       usually less than the median.\n",
        "\n",
        "       Why is skewness important?\n",
        "\n",
        "       Understanding Data Shape:\n",
        "       Skewness provides insights into the shape of the data distribution\n",
        "       and helps determine whether it deviates from a normal distribution.\n",
        "\n",
        "       Choosing Appropriate Statistical Methods:\n",
        "       Skewness can affect the choice of statistical methods, as some\n",
        "       methods assume a normal distribution.\n",
        "\n",
        "       Data Transformation:\n",
        "       Skewed data might require transformation\n",
        "       (e.g., using a square root, cube root, log, or reciprocal) to make\n",
        "       it more suitable for certain statistical models.\n",
        "\n"
      ],
      "metadata": {
        "id": "CykUHuMw35DV"
      }
    },
    {
      "cell_type": "markdown",
      "source": [
        "Que.19 What does it mean if a dataset is positively or negatively skewed?\n",
        "\n",
        "  ->   A positively skewed dataset has a longer tail on the right side,  \n",
        "       meaning more data points are clustered towards the lower end of the scale, with a few higher scores pulling the mean to the right. Conversely, a negatively skewed dataset has a longer tail on the left side, with most data points clustered towards the higher end of the scale, and a few lower scores pulling the mean to the left. In essence, skewness describes the asymmetry of a data distribution.\n",
        "\n",
        "       Positive Skew:\n",
        "       If a distribution is positively skewed, the mean will be greater\n",
        "       than the median. This is because the few high values in the tail\n",
        "       will have a disproportionate impact on the mean, pulling it\n",
        "       away from the center of the distribution.\n",
        "\n",
        "       Negative Skew:\n",
        "       If a distribution is negatively skewed, the mean will be less\n",
        "       than the median. The few low values in the tail will pull the mean\n",
        "       to the left, making it smaller than the median.\n",
        "\n",
        "       Visualizing Skew:\n",
        "       You can often visualize skewness by examining a histogram or\n",
        "       box plot of the data. A right-skewed distribution will have a\n",
        "       longer tail on the right, while a left-skewed distribution will\n",
        "       have a longer tail on the left.\n"
      ],
      "metadata": {
        "id": "osHvkM_83_lm"
      }
    },
    {
      "cell_type": "markdown",
      "source": [
        "Que.20 Define and explain kurtosis?\n",
        "\n",
        "  ->   Kurtosis is a measure of the tailedness of a distribution. Tailedness  \n",
        "       is how often outliers occur. Excess kurtosis is the tailedness of a distribution relative to a normal distribution. Distributions with medium kurtosis (medium tails) are mesokurtic. Distributions with low kurtosis (thin tails) are platykurtic.\n",
        "       Kurtosis is a descriptive statistic used to help measure how data disperse between a distribution's center and tails, with larger values indicating a data distribution may have “heavy” tails that are thickly concentrated with observations or that are long with extreme observations."
      ],
      "metadata": {
        "id": "Eu1k1iO-4IvT"
      }
    },
    {
      "cell_type": "markdown",
      "source": [
        "Que.21 What is the purpose of covariance?\n",
        "\n",
        "   ->  Covariance measures the direction of the relationship between two  \n",
        "       random variables, indicating whether they tend to move in the same or opposite directions. A positive covariance means the variables tend to move together, while a negative covariance suggests they move in opposite directions.\n",
        "\n",
        "       Direction of Relationship:\n",
        "       Covariance helps determine the direction of a linear\n",
        "       relationship between two variables.\n",
        "\n",
        "       Positive Covariance:\n",
        "       If a variable's value increases, the other variable's value also\n",
        "       tends to increase, and vice versa. This indicates a positive relationship.\n",
        "\n",
        "       Negative Covariance:\n",
        "       If an increase in one variable is associated with a decrease\n",
        "       in the other variable, it suggests a negative or inverse relationship.\n",
        "\n",
        "       Magnitude of Covariance:\n",
        "       The magnitude of the covariance doesn't necessarily indicate\n",
        "       the strength of the relationship. A large covariance can be\n",
        "       due to large values in the variables themselves, even if the relationship\n",
        "       isn't very strong. Correlation, which is the standardized version\n",
        "       of covariance, provides a more accurate measure of the strength\n",
        "       of the relationship.\n",
        "\n",
        "       Applications:\n",
        "       Covariance is used in various fields, including finance\n",
        "       (analyzing stock returns), statistics (analyzing data),\n",
        "       and data analysis (reducing dimensionality of data).\n",
        "\n",
        "       For a more helpful explanation to your audience, you could use\n",
        "       an analogy like this:\n",
        "\n",
        "       \"Imagine you're looking at the relationship between a person's\n",
        "       height and their weight. If taller people tend to weigh more\n",
        "       and shorter people tend to weigh less, that's a positive\n",
        "       covariance. But if, in a strange situation, taller people tend\n",
        "       to weigh less, and shorter people tend to weigh more, that's a\n",
        "       negative covariance.\""
      ],
      "metadata": {
        "id": "JmMqQGAN4PUG"
      }
    },
    {
      "cell_type": "markdown",
      "source": [
        "Que.22 What does correlation measure in statistics?\n",
        "\n",
        "   ->  In statistics, correlation measures the strength and direction of the\n",
        "       linear relationship between two variables. It indicates how much one variable tends to change in relation to the other, but it does not imply causation.\n",
        "\n",
        "       Key points about correlation:\n",
        "\n",
        "       Strength:\n",
        "       Correlation quantifies how closely the two variables are related.\n",
        "       A strong correlation means a close relationship, while a\n",
        "       weak correlation indicates a loose relationship.\n",
        "\n",
        "       Direction:\n",
        "       Correlation can be positive (variables move in the same direction)\n",
        "       or negative (variables move in opposite directions).\n",
        "\n",
        "       Linearity:\n",
        "       Correlation measures linear relationships, meaning the relationship\n",
        "       can be represented by a straight line.\n",
        "\n",
        "       No Causation:\n",
        "       Even if two variables are correlated, it does not mean one causes the other.\n",
        "       Other factors might influence both variables.\n",
        "\n",
        "       Correlation coefficient (r):\n",
        "       The correlation coefficient, denoted by \"r,\" ranges from -1 to +1.\n",
        "       A value of +1 indicates a perfect positive correlation, -1 indicates\n",
        "        a perfect negative correlation, and 0 indicates no linear correlation."
      ],
      "metadata": {
        "id": "phvWkBeh4Uzb"
      }
    },
    {
      "cell_type": "markdown",
      "source": [
        "Que.23 What is the difference between covariance and correlation?\n",
        "\n",
        "  ->   Covariance and correlation both measure the relationship between two\n",
        "       variables, but they differ in how they scale and interpret this relationship. Covariance indicates the direction of the relationship and how much the variables change together, while correlation provides a standardized measure of the strength and direction of that linear relationship, always ranging between -1 and 1.\n",
        "\n",
        "       Covariance:\n",
        "\n",
        "       Meaning:\n",
        "       Covariance measures how two random variables vary together.\n",
        "       It indicates whether they tend to increase or decrease\n",
        "       together (positive covariance) or in opposite directions\n",
        "       (negative covariance).\n",
        "\n",
        "       Units:\n",
        "       Covariance is not dimensionless; its units are the product of\n",
        "       the units of the two variables being compared.\n",
        "\n",
        "       Interpretation:\n",
        "       Covariance doesn't provide a direct measure of the strength of\n",
        "       the relationship, as its magnitude can be affected by the scale\n",
        "       of the variables.\n",
        "\n",
        "       Range:\n",
        "       Covariance values can range from negative infinity to positive infinity.\n",
        "\n",
        "\n",
        "       Correlation:\n",
        "\n",
        "       Meaning:\n",
        "       Correlation is a standardized measure of the strength and direction\n",
        "       of the linear relationship between two variables.\n",
        "\n",
        "       Units:\n",
        "       Correlation is dimensionless, meaning it's independent of the units\n",
        "       of the variables.\n",
        "\n",
        "       Interpretation:\n",
        "       Correlation provides a standardized measure of the strength of\n",
        "       the linear relationship, with values closer to 1 or -1 indicating\n",
        "       a stronger relationship, and a value of 0 indicating no linear relationship.\n",
        "\n",
        "       Range:\n",
        "       Correlation values always range between -1 and +1.  "
      ],
      "metadata": {
        "id": "d1Uf8VJT4a1n"
      }
    },
    {
      "cell_type": "markdown",
      "source": [
        "Que.24 What are some real-world applications of statistics?\n",
        "\n",
        "  ->   Statistics is widely used in various real-world applications, including\n",
        "       business decision-making, scientific research, healthcare, and market research. It's also crucial in fields like finance, government, and even everyday life for things like budget planning and travel routes.\n",
        "\n",
        "       Here's a more specific applications:\n",
        "       Business and Economics:\n",
        "       Statistics helps businesses analyze data to make informed\n",
        "       decisions about pricing, marketing, sales forecasting, and\n",
        "       inventory management.\n",
        "\n",
        "       Healthcare:\n",
        "       Statistical methods are essential for analyzing clinical\n",
        "       trial data, understanding disease trends, and evaluating\n",
        "       the effectiveness of treatments.\n",
        "\n",
        "       Scientific Research:\n",
        "       Statistics is used to design experiments, analyze results, and\n",
        "       draw conclusions in various scientific disciplines, including\n",
        "       genetics, epidemiology, and environmental science.\n",
        "\n",
        "       Finance:\n",
        "       Statistics plays a crucial role in financial modeling,\n",
        "       risk assessment, and investment analysis.\n",
        "        \n",
        "       Government and Public Policy:\n",
        "       Statistics helps government agencies track population trends,\n",
        "       analyze social issues, and develop effective public policy.\n",
        "\n",
        "       Sports Analytics:\n",
        "       Statistics are used to analyze player performance, predict\n",
        "       game outcomes, and develop training strategies.\n",
        "\n",
        "       Market Research:\n",
        "       Statistics helps businesses understand consumer preferences,\n",
        "       identify target markets, and assess the effectiveness of\n",
        "       marketing campaigns.\n",
        "\n",
        "       Quality Control:\n",
        "       In manufacturing and other industries, statistical methods are\n",
        "       used to monitor product quality, identify defects, and\n",
        "       implement quality control measures.\n",
        "\n",
        "       Weather Forecasting:\n",
        "       Statistics is used to analyze weather patterns, predict future\n",
        "       weather conditions, and assess the likelihood of extreme weather\n",
        "       events.\n",
        "\n",
        "       Personal Finance and Everyday Life:\n",
        "       Individuals use statistics to create budgets, make\n",
        "       investment decisions, and track their personal finances."
      ],
      "metadata": {
        "id": "Vpram3Mg4gD-"
      }
    },
    {
      "cell_type": "markdown",
      "source": [
        "# **PRACTICAL** **QUESTIONS**"
      ],
      "metadata": {
        "id": "ELhGwixV4lkY"
      }
    },
    {
      "cell_type": "markdown",
      "source": [
        "Que.1 How do you calculate the mean, median, and mode of a dataset?\n",
        "\n",
        "   -> Calculating the mean, median, and mode of a dataset involves different\n",
        "      approaches depending on the data type and structure. Here's a simple guide:\n",
        "\n",
        "      1. Mean (Average)\n",
        "         The mean is the sum of all values divided by the number of values.\n",
        "\n",
        "         Formula:\n",
        "         Mean= ∑x i​\n",
        "               -----\n",
        "                 N\n",
        "  \n",
        "          Where:\n",
        "          𝑥i = each value\n",
        "          n = Number of values\n",
        "\n",
        "\n",
        "          Example: Dataset: [4, 8, 6, 5, 3]\n",
        "       \n",
        "          Mean = 4+8+6+5+3     26\n",
        "                 ---------  =  ---  = 5.2\n",
        "                    5          5\n",
        "\n",
        "\n",
        "        2. Median (Middle Value)\n",
        "           The median is the middle value in an ordered dataset.\n",
        "\n",
        "          Steps:\n",
        "\n",
        "          Sort the data in ascending order.\n",
        "\n",
        "          If the number of values is odd, median = middle value.\n",
        "\n",
        "          If even, median = average of the two middle values.\n",
        "\n",
        "          Example: Dataset: [4, 8, 6, 5, 3] → Sorted: [3, 4, 5, 6, 8]\n",
        "          → Median = 5 (middle value)\n",
        "\n",
        "          If dataset were [4, 8, 6, 5], sorted: [4, 5, 6, 8]\n",
        "          → Median = (5 + 6)/2 = 5.5\n",
        "\n",
        "         3. Mode (Most Frequent Value)\n",
        "             The mode is the value(s) that appear most frequently.\n",
        "\n",
        "             Example: Dataset: [4, 8, 6, 5, 4, 3, 4]\n",
        "             → Mode = 4 (appears 3 times)\n",
        "\n",
        "             A dataset can have:\n",
        "\n",
        "             One mode → unimodal\n",
        "\n",
        "             Two modes → bimodal\n",
        "\n",
        "             More than two modes → multimodal\n",
        "\n",
        "             No mode → all values occur equally\n",
        "\n",
        "\n",
        "\n",
        "\n",
        "\n",
        "\n"
      ],
      "metadata": {
        "id": "jov_DgEot4jb"
      }
    },
    {
      "cell_type": "code",
      "source": [
        "import numpy as np\n",
        "\n",
        "data = [10, 15, 20, 25, 30]\n",
        "mean = np.mean(data)\n",
        "print(f\"Mean: {mean}\")\n",
        "median = np.median(data)\n",
        "print(f\"Median: {median}\")\n",
        "median = np.median(data)\n",
        "print(f\"Median: {median}\")"
      ],
      "metadata": {
        "colab": {
          "base_uri": "https://localhost:8080/"
        },
        "id": "fi8_gH7n8U2i",
        "outputId": "06308ccd-616c-441c-8306-9777d9b9e632"
      },
      "execution_count": null,
      "outputs": [
        {
          "output_type": "stream",
          "name": "stdout",
          "text": [
            "Mean: 20.0\n",
            "Median: 20.0\n",
            "Median: 20.0\n"
          ]
        }
      ]
    },
    {
      "cell_type": "code",
      "source": [
        "#Que.2 Write a Python program to compute the variance and standard deviation of a dataset?\n",
        "\n",
        "import math\n",
        "import statistics\n",
        "\n",
        "# Sample dataset\n",
        "data = [4, 8, 6, 5, 3]\n",
        "\n",
        "# Manual calculation of mean\n",
        "mean = sum(data) / len(data)\n",
        "\n",
        "# Manual calculation of variance\n",
        "variance = sum((x - mean) ** 2 for x in data) / len(data)  # Population variance\n",
        "\n",
        "# Standard deviation is the square root of variance\n",
        "std_deviation = math.sqrt(variance)\n",
        "\n",
        "# Using statistics module (also provides sample statistics by default)\n",
        "variance_builtin = statistics.pvariance(data)  # For population variance\n",
        "std_deviation_builtin = statistics.pstdev(data)  # For population std deviation\n",
        "\n",
        "# Output\n",
        "print(\"Manual Calculation:\")\n",
        "print(f\"Mean: {mean}\")\n",
        "print(f\"Variance: {variance}\")\n",
        "print(f\"Standard Deviation: {std_deviation}\")\n",
        "\n",
        "print(\"\\nUsing statistics module:\")\n",
        "print(f\"Variance: {variance_builtin}\")\n",
        "print(f\"Standard Deviation: {std_deviation_builtin}\")\n"
      ],
      "metadata": {
        "colab": {
          "base_uri": "https://localhost:8080/"
        },
        "id": "NoBbetru4r2B",
        "outputId": "edfe1f41-bf42-4a95-ab91-8fe76c57d996"
      },
      "execution_count": null,
      "outputs": [
        {
          "output_type": "stream",
          "name": "stdout",
          "text": [
            "Manual Calculation:\n",
            "Mean: 5.2\n",
            "Variance: 2.96\n",
            "Standard Deviation: 1.7204650534085253\n",
            "\n",
            "Using statistics module:\n",
            "Variance: 2.96\n",
            "Standard Deviation: 1.7204650534085253\n"
          ]
        }
      ]
    },
    {
      "cell_type": "code",
      "source": [
        "#Que.3 Create a dataset and classify it into nominal, ordinal, interval, and ratio types?\n",
        "\n",
        "import pandas as pd\n",
        "\n",
        "# Creating the dataset\n",
        "data = {\n",
        "    'Student ID': [1, 2, 3, 4, 5],\n",
        "    'Name': ['Alice', 'Bob', 'Charlie', 'David', 'Eve'],  # Nominal\n",
        "    'Gender': ['Female', 'Male', 'Male', 'Male', 'Female'],  # Nominal\n",
        "    'Grade Level': ['Sophomore', 'Junior', 'Senior', 'Freshman', 'Junior'],  # Ordinal\n",
        "    'Temperature (°C)': [22, 25, 21, 23, 24],  # Interval\n",
        "    'Height (cm)': [160, 175, 180, 165, 155]  # Ratio\n",
        "}\n",
        "\n",
        "df = pd.DataFrame(data)\n",
        "\n",
        "# Display the dataset\n",
        "print(df)\n",
        "\n"
      ],
      "metadata": {
        "colab": {
          "base_uri": "https://localhost:8080/"
        },
        "id": "4BMAEjP44r4o",
        "outputId": "b6c7590f-f2f3-4bfe-c370-0d7e5b0be6b9"
      },
      "execution_count": null,
      "outputs": [
        {
          "output_type": "stream",
          "name": "stdout",
          "text": [
            "   Student ID     Name  Gender Grade Level  Temperature (°C)  Height (cm)\n",
            "0           1    Alice  Female   Sophomore                22          160\n",
            "1           2      Bob    Male      Junior                25          175\n",
            "2           3  Charlie    Male      Senior                21          180\n",
            "3           4    David    Male    Freshman                23          165\n",
            "4           5      Eve  Female      Junior                24          155\n"
          ]
        }
      ]
    },
    {
      "cell_type": "markdown",
      "source": [
        "1. Nominal Data:\n",
        "\n",
        "   Nominal data consists of categories without any inherent order. These are simply labels or names.\n",
        "\n",
        "   Name: Represents the names of students (Alice, Bob, etc.). There is no inherent order among names.\n",
        "\n",
        "   Gender: Represents the categories \"Male\" and \"Female.\" There's no intrinsic ordering of gender categories.\n",
        "\n",
        "2. Ordinal Data:\n",
        "\n",
        "   Ordinal data represents categories with a meaningful order, but the intervals between the categories are not necessarily consistent.\n",
        "\n",
        "   Grade Level: The levels (Freshman, Sophomore, Junior, Senior) have a clear order, but we don't know the exact difference in terms of numerical values. \"Senior\" > \"Junior\" > \"Sophomore\" > \"Freshman.\"\n",
        "\n",
        "3. Interval Data:\n",
        "\n",
        "   Interval data is numeric and the differences between values are meaningful, but there’s no true zero.\n",
        "\n",
        "   Temperature (°C): The differences between temperatures (e.g., the difference between 20°C and 30°C is the same as between 30°C and 40°C), but 0°C doesn’t represent an absence of temperature.\n",
        "\n",
        "4. Ratio Data:\n",
        "\n",
        "   Ratio data is numeric with both meaningful differences and a true zero, meaning the absence of the quantity is represented by 0.\n",
        "\n",
        "   Height (cm): Heights have meaningful differences, and 0 cm represents a true absence of height. So this is ratio data.\n",
        "\n"
      ],
      "metadata": {
        "id": "KLsneTjI9XJG"
      }
    },
    {
      "cell_type": "code",
      "source": [
        "#Que.4 Implement sampling techniques like random sampling and stratified sampling?\n",
        "\n",
        "#Step 1: Simulate a Dataset:\n",
        "\n",
        "import pandas as pd\n",
        "import numpy as np\n",
        "\n",
        "# Simulating a dataset\n",
        "np.random.seed(0)\n",
        "data = {\n",
        "    'Name': ['Alice', 'Bob', 'Charlie', 'David', 'Eve', 'Frank', 'Grace', 'Hannah', 'Ivy', 'Jack'],\n",
        "    'Gender': ['Female', 'Male', 'Male', 'Male', 'Female', 'Female', 'Male', 'Female', 'Male', 'Female'],\n",
        "    'Score': np.random.randint(50, 100, size=10)\n",
        "}\n",
        "\n",
        "df = pd.DataFrame(data)\n",
        "\n",
        "\n",
        "# Random Sampling\n",
        "random_sample = df.sample(n=4, random_state=42)\n",
        "print(\"Random Sample:\\n\", random_sample)\n",
        "\n",
        "#Stratified Sampling\n",
        "stratified_sample = df.groupby('Gender').apply(lambda x: x.sample(n=1, random_state=42))\n",
        "stratified_sample = stratified_sample.reset_index(drop=True)\n",
        "print(\"\\nStratified Sample:\\n\", stratified_sample)"
      ],
      "metadata": {
        "colab": {
          "base_uri": "https://localhost:8080/"
        },
        "id": "ZoaX_b4X4r7f",
        "outputId": "8eaf0bcd-a8d4-4def-888f-7561b819535c"
      },
      "execution_count": null,
      "outputs": [
        {
          "output_type": "stream",
          "name": "stdout",
          "text": [
            "Random Sample:\n",
            "     Name  Gender  Score\n",
            "8    Ivy    Male     71\n",
            "1    Bob    Male     97\n",
            "5  Frank  Female     89\n",
            "0  Alice  Female     94\n",
            "\n",
            "Stratified Sample:\n",
            "       Name  Gender  Score\n",
            "0      Eve  Female     53\n",
            "1  Charlie    Male     50\n"
          ]
        },
        {
          "output_type": "stream",
          "name": "stderr",
          "text": [
            "<ipython-input-26-435472567445>:24: DeprecationWarning: DataFrameGroupBy.apply operated on the grouping columns. This behavior is deprecated, and in a future version of pandas the grouping columns will be excluded from the operation. Either pass `include_groups=False` to exclude the groupings or explicitly select the grouping columns after groupby to silence this warning.\n",
            "  stratified_sample = df.groupby('Gender').apply(lambda x: x.sample(n=1, random_state=42))\n"
          ]
        }
      ]
    },
    {
      "cell_type": "code",
      "source": [
        "#Que.5 Write a Python function to calculate the range of a dataset?\n",
        "\n",
        "def calculate_range(data):\n",
        "    if not data:\n",
        "        return None  # Handle empty list\n",
        "    return max(data) - min(data)\n",
        "\n",
        "# Example usage:\n",
        "dataset = [4, 8, 6, 5, 3]\n",
        "data_range = calculate_range(dataset)\n",
        "print(f\"Range of dataset: {data_range}\")\n"
      ],
      "metadata": {
        "colab": {
          "base_uri": "https://localhost:8080/"
        },
        "id": "Cbs3qkKC4r9-",
        "outputId": "c9472fd0-b345-4d9a-a964-43ff1b888c26"
      },
      "execution_count": null,
      "outputs": [
        {
          "output_type": "stream",
          "name": "stdout",
          "text": [
            "Range of dataset: 5\n"
          ]
        }
      ]
    },
    {
      "cell_type": "code",
      "source": [
        "#Que.6 Create a dataset and plot its histogram to visualize skewness?\n",
        "\n",
        "import matplotlib.pyplot as plt\n",
        "import seaborn as sns\n",
        "import numpy as np\n",
        "\n",
        "# Create a right-skewed dataset (e.g., income or sales)\n",
        "np.random.seed(0)\n",
        "data = np.random.exponential(scale=2.0, size=1000)  # Right-skewed\n",
        "\n",
        "# Plot histogram\n",
        "plt.figure(figsize=(10, 6))\n",
        "sns.histplot(data, bins=30, kde=True, color='skyblue')\n",
        "plt.title('Histogram to Visualize Skewness (Right-Skewed)')\n",
        "plt.xlabel('Value')\n",
        "plt.ylabel('Frequency')\n",
        "plt.grid(True)\n",
        "plt.show()\n"
      ],
      "metadata": {
        "colab": {
          "base_uri": "https://localhost:8080/",
          "height": 564
        },
        "id": "1qFPwqmK4sAN",
        "outputId": "8f59f79f-ee0c-4349-ccc2-5353a732b6e0"
      },
      "execution_count": null,
      "outputs": [
        {
          "output_type": "display_data",
          "data": {
            "text/plain": [
              "<Figure size 1000x600 with 1 Axes>"
            ],
            "image/png": "[encoded data removed]"
          },
          "metadata": {}
        }
      ]
    },
    {
      "cell_type": "code",
      "source": [
        " #Que.7 Calculate skewness and kurtosis of a dataset using Python libraries?\n",
        "\n",
        "import numpy as np\n",
        "import pandas as pd\n",
        "from scipy.stats import skew, kurtosis\n",
        "\n",
        "# Example dataset\n",
        "data = np.random.exponential(scale=2.0, size=1000)  # Right-skewed data\n",
        "\n",
        "# Using scipy\n",
        "skewness = skew(data)\n",
        "kurt = kurtosis(data)  # By default, Fisher's definition (normal dist = 0)\n",
        "\n",
        "# Using pandas\n",
        "df = pd.Series(data)\n",
        "skewness_pd = df.skew()\n",
        "kurt_pd = df.kurt()  # Fisher’s definition as well\n",
        "\n",
        "# Output\n",
        "print(\"Using scipy.stats:\")\n",
        "print(f\"Skewness: {skewness:.4f}\")\n",
        "print(f\"Kurtosis: {kurt:.4f}\")\n",
        "\n",
        "print(\"\\nUsing pandas:\")\n",
        "print(f\"Skewness: {skewness_pd:.4f}\")\n",
        "print(f\"Kurtosis: {kurt_pd:.4f}\")\n"
      ],
      "metadata": {
        "colab": {
          "base_uri": "https://localhost:8080/"
        },
        "id": "e5LQ-Vdf4sB_",
        "outputId": "91316bdc-2903-4425-b382-c11345999b68"
      },
      "execution_count": null,
      "outputs": [
        {
          "output_type": "stream",
          "name": "stdout",
          "text": [
            "Using scipy.stats:\n",
            "Skewness: 1.7494\n",
            "Kurtosis: 3.8004\n",
            "\n",
            "Using pandas:\n",
            "Skewness: 1.7521\n",
            "Kurtosis: 3.8255\n"
          ]
        }
      ]
    },
    {
      "cell_type": "code",
      "source": [
        "#Que.8 Generate a dataset and demonstrate positive and negative skewness?\n",
        "\n",
        "import numpy as np\n",
        "import matplotlib.pyplot as plt\n",
        "import seaborn as sns\n",
        "from scipy.stats import skew\n",
        "\n",
        "# Set seed for reproducibility\n",
        "np.random.seed(42)\n",
        "\n",
        "# Generate data\n",
        "positive_skew = np.random.exponential(scale=2.0, size=1000)   # Right-skewed\n",
        "negative_skew = -np.random.exponential(scale=2.0, size=1000)  # Left-skewed\n",
        "\n",
        "# Create subplots\n",
        "fig, axes = plt.subplots(1, 2, figsize=(14, 6))\n",
        "\n",
        "# Plot positive skew\n",
        "sns.histplot(positive_skew, bins=30, kde=True, color='orange', ax=axes[0])\n",
        "axes[0].set_title(f'Positive Skewness\\nSkew = {skew(positive_skew):.2f}')\n",
        "axes[0].set_xlabel('Value')\n",
        "axes[0].set_ylabel('Frequency')\n",
        "\n",
        "# Plot negative skew\n",
        "sns.histplot(negative_skew, bins=30, kde=True, color='skyblue', ax=axes[1])\n",
        "axes[1].set_title(f'Negative Skewness\\nSkew = {skew(negative_skew):.2f}')\n",
        "axes[1].set_xlabel('Value')\n",
        "axes[1].set_ylabel('Frequency')\n",
        "\n",
        "plt.tight_layout()\n",
        "plt.show()\n"
      ],
      "metadata": {
        "colab": {
          "base_uri": "https://localhost:8080/",
          "height": 589
        },
        "id": "x2ZBVb-14sEF",
        "outputId": "d966b31c-6156-4db8-fdd2-fc732dc55fb8"
      },
      "execution_count": null,
      "outputs": [
        {
          "output_type": "display_data",
          "data": {
            "text/plain": [
              "<Figure size 1400x600 with 2 Axes>"
            ],
            "image/png": "[encoded data removed]"
          },
          "metadata": {}
        }
      ]
    },
    {
      "cell_type": "code",
      "source": [
        "#Que.9 Write a Python script to calculate covariance between two datasets?\n",
        "\n",
        "import numpy as np\n",
        "\n",
        "# Example datasets\n",
        "x = [2, 4, 6, 8, 10]\n",
        "y = [1, 3, 2, 5, 7]\n",
        "\n",
        "# Manual calculation of covariance (sample)\n",
        "def calculate_covariance(x, y):\n",
        "    if len(x) != len(y):\n",
        "        raise ValueError(\"Datasets must have the same length.\")\n",
        "    n = len(x)\n",
        "    mean_x = sum(x) / n\n",
        "    mean_y = sum(y) / n\n",
        "    cov = sum((x[i] - mean_x) * (y[i] - mean_y) for i in range(n)) / (n - 1)  # sample covariance\n",
        "    return cov\n",
        "\n",
        "# Using numpy\n",
        "cov_matrix = np.cov(x, y, ddof=1)  # ddof=1 for sample covariance\n",
        "\n",
        "# Output\n",
        "print(\"Manual Covariance:\", calculate_covariance(x, y))\n",
        "print(\"Numpy Covariance Matrix:\\n\", cov_matrix)\n",
        "print(\"Numpy Covariance (x vs y):\", cov_matrix[0, 1])\n"
      ],
      "metadata": {
        "colab": {
          "base_uri": "https://localhost:8080/"
        },
        "id": "ye66k8rS4sFm",
        "outputId": "c34c10e1-92ea-4edb-a213-4d77974365e5"
      },
      "execution_count": null,
      "outputs": [
        {
          "output_type": "stream",
          "name": "stdout",
          "text": [
            "Manual Covariance: 7.0\n",
            "Numpy Covariance Matrix:\n",
            " [[10.   7. ]\n",
            " [ 7.   5.8]]\n",
            "Numpy Covariance (x vs y): 7.0\n"
          ]
        }
      ]
    },
    {
      "cell_type": "code",
      "source": [
        "#Que.10 Write a Python script to calculate the correlation coefficient between two datasets?\n",
        "\n",
        "import numpy as np\n",
        "from scipy.stats import pearsonr\n",
        "\n",
        "# Step 1: Example datasets\n",
        "x = [10, 20, 30, 40, 50]\n",
        "y = [12, 25, 33, 48, 52]\n",
        "\n",
        "# Step 2: Manual Calculation\n",
        "def manual_pearson_corr(x, y):\n",
        "    n = len(x)\n",
        "    mean_x = sum(x) / n\n",
        "    mean_y = sum(y) / n\n",
        "\n",
        "    num = sum((xi - mean_x) * (yi - mean_y) for xi, yi in zip(x, y))\n",
        "    den_x = sum((xi - mean_x) ** 2 for xi in x)\n",
        "    den_y = sum((yi - mean_y) ** 2 for yi in y)\n",
        "\n",
        "    correlation = num / (den_x * den_y) ** 0.5\n",
        "    return correlation\n",
        "\n",
        "# Step 3: Using NumPy / SciPy\n",
        "np_corr = np.corrcoef(x, y)[0, 1]\n",
        "scipy_corr, _ = pearsonr(x, y)\n",
        "\n",
        "# Step 4: Print results\n",
        "print(\"Manual Pearson Correlation:\", round(manual_pearson_corr(x, y), 4))\n",
        "print(\"NumPy Pearson Correlation:\", round(np_corr, 4))\n",
        "print(\"SciPy Pearson Correlation:\", round(scipy_corr, 4))\n"
      ],
      "metadata": {
        "colab": {
          "base_uri": "https://localhost:8080/"
        },
        "id": "J9Fuq18e4sHv",
        "outputId": "05d91590-03d7-4aec-deed-51d4d5fe6421"
      },
      "execution_count": null,
      "outputs": [
        {
          "output_type": "stream",
          "name": "stdout",
          "text": [
            "Manual Pearson Correlation: 0.9884\n",
            "NumPy Pearson Correlation: 0.9884\n",
            "SciPy Pearson Correlation: 0.9884\n"
          ]
        }
      ]
    },
    {
      "cell_type": "code",
      "source": [
        "#Que.11 Create a scatter plot to visualize the relationship between two variables?\n",
        "\n",
        "import matplotlib.pyplot as plt\n",
        "\n",
        "# Sample data for the two variables\n",
        "x = [1, 2, 3, 4, 5]\n",
        "y = [2, 4, 6, 8, 10]\n",
        "\n",
        "# Create a scatter plot\n",
        "plt.scatter(x, y)\n",
        "\n",
        "# Add title and labels\n",
        "plt.title('Scatter Plot Between Two Variables')\n",
        "plt.xlabel('Variable X')\n",
        "plt.ylabel('Variable Y')\n",
        "\n",
        "# Show the plot\n",
        "plt.show()\n"
      ],
      "metadata": {
        "colab": {
          "base_uri": "https://localhost:8080/",
          "height": 480
        },
        "id": "f5iiQ6QA4sJ8",
        "outputId": "ea0776f7-ae89-4bed-b8ea-8ff45574b1b6"
      },
      "execution_count": null,
      "outputs": [
        {
          "output_type": "display_data",
          "data": {
            "text/plain": [
              "<Figure size 640x480 with 1 Axes>"
            ],
            "image/png": "[encoded data removed]"
          },
          "metadata": {}
        }
      ]
    },
    {
      "cell_type": "code",
      "source": [
        "#Que.12 Implement and compare simple random sampling and systematic sampling?\n",
        "\n",
        "#1. Sample Dataset\n",
        "\n",
        "import numpy as np\n",
        "import pandas as pd\n",
        "import matplotlib.pyplot as plt\n",
        "\n",
        "# Set seed for reproducibility\n",
        "np.random.seed(42)\n",
        "\n",
        "# Create synthetic population data\n",
        "population_size = 1000\n",
        "population = pd.DataFrame({\n",
        "    'value': np.random.normal(loc=50, scale=10, size=population_size)\n",
        "})\n",
        "\n",
        "#2. Simple Random Sampling (SRS)\n",
        "\n",
        "def simple_random_sampling(data, sample_size):\n",
        "    return data.sample(n=sample_size)\n",
        "\n",
        "#3. Systematic Sampling\n",
        "\n",
        "def systematic_sampling(data, sample_size):\n",
        "    step = len(data) // sample_size\n",
        "    start = np.random.randint(0, step)\n",
        "    indices = np.arange(start, len(data), step)\n",
        "    return data.iloc[indices[:sample_size]]\n",
        "\n",
        "#4. Compare the Methods\n",
        "\n",
        "# Sampling parameters\n",
        "sample_size = 100\n",
        "\n",
        "# Get samples\n",
        "srs_sample = simple_random_sampling(population, sample_size)\n",
        "sys_sample = systematic_sampling(population, sample_size)\n",
        "\n",
        "# Plot comparison\n",
        "plt.figure(figsize=(12, 6))\n",
        "plt.hist(population['value'], bins=30, alpha=0.4, label='Population')\n",
        "plt.hist(srs_sample['value'], bins=30, alpha=0.6, label='SRS')\n",
        "plt.hist(sys_sample['value'], bins=30, alpha=0.6, label='Systematic')\n",
        "plt.legend()\n",
        "plt.title('Comparison of Sampling Techniques')\n",
        "plt.xlabel('Value')\n",
        "plt.ylabel('Frequency')\n",
        "plt.grid(True)\n",
        "plt.show()\n",
        "\n",
        "# Print mean comparison\n",
        "print(\"Population Mean:\", population['value'].mean())\n",
        "print(\"SRS Sample Mean:\", srs_sample['value'].mean())\n",
        "print(\"Systematic Sample Mean:\", sys_sample['value'].mean())\n",
        "\n"
      ],
      "metadata": {
        "colab": {
          "base_uri": "https://localhost:8080/",
          "height": 618
        },
        "id": "r-nTUP4x4sLk",
        "outputId": "7c0c53b2-6ba7-4155-dece-85763da507d8"
      },
      "execution_count": null,
      "outputs": [
        {
          "output_type": "display_data",
          "data": {
            "text/plain": [
              "<Figure size 1200x600 with 1 Axes>"
            ],
            "image/png": "[encoded data removed]"
          },
          "metadata": {}
        },
        {
          "output_type": "stream",
          "name": "stdout",
          "text": [
            "Population Mean: 50.193320558223256\n",
            "SRS Sample Mean: 51.38470622599398\n",
            "Systematic Sample Mean: 49.5222819305622\n"
          ]
        }
      ]
    },
    {
      "cell_type": "code",
      "source": [
        "#Que.13 Calculate the mean, median, and mode of grouped data?\n",
        "\n",
        "import pandas as pd\n",
        "\n",
        "# Define grouped data\n",
        "data = pd.DataFrame({\n",
        "    'class_interval': ['0-10', '10-20', '20-30', '30-40', '40-50'],\n",
        "    'frequency': [5, 8, 12, 7, 3]\n",
        "})\n",
        "\n",
        "# Calculate midpoints\n",
        "data[['lower', 'upper']] = data['class_interval'].str.split('-', expand=True).astype(int)\n",
        "data['midpoint'] = (data['lower'] + data['upper']) / 2\n",
        "\n",
        "# Mean\n",
        "data['f_x'] = data['frequency'] * data['midpoint']\n",
        "mean = data['f_x'].sum() / data['frequency'].sum()\n",
        "\n",
        "# Median\n",
        "data['cumulative_freq'] = data['frequency'].cumsum()\n",
        "N = data['frequency'].sum()\n",
        "median_class_idx = data[data['cumulative_freq'] >= N / 2].index[0]\n",
        "L = data.loc[median_class_idx, 'lower']\n",
        "F = data.loc[median_class_idx - 1, 'cumulative_freq'] if median_class_idx > 0 else 0\n",
        "f_m = data.loc[median_class_idx, 'frequency']\n",
        "h = data.loc[median_class_idx, 'upper'] - data.loc[median_class_idx, 'lower']\n",
        "median = L + ((N / 2 - F) / f_m) * h\n",
        "\n",
        "# Mode\n",
        "modal_class_idx = data['frequency'].idxmax()\n",
        "f1 = data.loc[modal_class_idx, 'frequency']\n",
        "f0 = data.loc[modal_class_idx - 1, 'frequency'] if modal_class_idx > 0 else 0\n",
        "f2 = data.loc[modal_class_idx + 1, 'frequency'] if modal_class_idx < len(data) - 1 else 0\n",
        "L = data.loc[modal_class_idx, 'lower']\n",
        "mode = L + ((f1 - f0) / (2 * f1 - f0 - f2)) * h\n",
        "\n",
        "# Results\n",
        "print(f\"Mean: {mean:.2f}\")\n",
        "print(f\"Median: {median:.2f}\")\n",
        "print(f\"Mode: {mode:.2f}\")\n"
      ],
      "metadata": {
        "colab": {
          "base_uri": "https://localhost:8080/"
        },
        "id": "hTRWWqok4sN-",
        "outputId": "b3ccfb65-b664-41bb-c4ea-67d71fa00f9c"
      },
      "execution_count": null,
      "outputs": [
        {
          "output_type": "stream",
          "name": "stdout",
          "text": [
            "Mean: 23.57\n",
            "Median: 23.75\n",
            "Mode: 24.44\n"
          ]
        }
      ]
    },
    {
      "cell_type": "code",
      "source": [
        "#Que.14 Simulate data using Python and calculate its central tendency and dispersion.\n",
        "\n",
        "#Step 1: Simulate Data\n",
        "import numpy as np\n",
        "import pandas as pd\n",
        "from scipy import stats\n",
        "\n",
        "# Set seed for reproducibility\n",
        "np.random.seed(0)\n",
        "\n",
        "# Simulate data: Normal distribution (mean=50, std=10)\n",
        "data = np.random.normal(loc=50, scale=10, size=1000)\n",
        "df = pd.DataFrame({'values': data})\n",
        "\n",
        "#Step 2: Calculate Central Tendency\n",
        "mean = df['values'].mean()\n",
        "median = df['values'].median()\n",
        "mode = stats.mode(df['values'], keepdims=False).mode\n",
        "\n",
        "#Step 3: Calculate Dispersion\n",
        "range_ = df['values'].max() - df['values'].min()\n",
        "variance = df['values'].var()\n",
        "std_dev = df['values'].std()\n",
        "iqr = df['values'].quantile(0.75) - df['values'].quantile(0.25)\n",
        "\n",
        "#Step 4: Display Results\n",
        "print(f\"Mean: {mean:.2f}\")\n",
        "print(f\"Median: {median:.2f}\")\n",
        "print(f\"Mode: {mode:.2f}\")\n",
        "print(f\"Range: {range_:.2f}\")\n",
        "print(f\"Variance: {variance:.2f}\")\n",
        "print(f\"Standard Deviation: {std_dev:.2f}\")\n",
        "print(f\"IQR (Interquartile Range): {iqr:.2f}\")\n"
      ],
      "metadata": {
        "colab": {
          "base_uri": "https://localhost:8080/"
        },
        "id": "AtiLO6fr4sRb",
        "outputId": "edb55a45-7a8e-49cb-b446-3a00ad969602"
      },
      "execution_count": null,
      "outputs": [
        {
          "output_type": "stream",
          "name": "stdout",
          "text": [
            "Mean: 49.55\n",
            "Median: 49.42\n",
            "Mode: 19.54\n",
            "Range: 58.05\n",
            "Variance: 97.52\n",
            "Standard Deviation: 9.88\n",
            "IQR (Interquartile Range): 13.05\n"
          ]
        }
      ]
    },
    {
      "cell_type": "code",
      "source": [
        "#Que.15 Use NumPy or pandas to summarize a dataset’s descriptive statistics\n",
        "\n",
        "#Using pandas.describe() and NumPy\n",
        "\n",
        "import numpy as np\n",
        "import pandas as pd\n",
        "\n",
        "# Simulate a dataset\n",
        "np.random.seed(42)\n",
        "data = np.random.normal(loc=100, scale=15, size=1000)\n",
        "df = pd.DataFrame({'score': data})\n",
        "\n",
        "\n",
        "#Using pandas.describe()\n",
        "summary = df.describe()\n",
        "print(summary)"
      ],
      "metadata": {
        "colab": {
          "base_uri": "https://localhost:8080/"
        },
        "id": "kq8VIc_64sTt",
        "outputId": "eb0d1836-6d78-45f9-b9d1-7ac8649e1dcc"
      },
      "execution_count": null,
      "outputs": [
        {
          "output_type": "stream",
          "name": "stdout",
          "text": [
            "             score\n",
            "count  1000.000000\n",
            "mean    100.289981\n",
            "std      14.688239\n",
            "min      51.380990\n",
            "25%      90.286145\n",
            "50%     100.379509\n",
            "75%     109.719158\n",
            "max     157.790972\n"
          ]
        }
      ]
    },
    {
      "cell_type": "code",
      "source": [
        "#Que.16 Plot a boxplot to understand the spread and identify outliers.\n",
        "\n",
        "#Example with Simulated Data\n",
        "import numpy as np\n",
        "import pandas as pd\n",
        "import seaborn as sns\n",
        "import matplotlib.pyplot as plt\n",
        "\n",
        "# Simulate data\n",
        "np.random.seed(1)\n",
        "data = np.random.normal(loc=70, scale=12, size=500)\n",
        "df = pd.DataFrame({'score': data})\n",
        "\n",
        "#Plot a Boxplot\n",
        "plt.figure(figsize=(8, 5))\n",
        "sns.boxplot(x=df['score'], color='skyblue')\n",
        "plt.title('Boxplot of Scores')\n",
        "plt.xlabel('Score')\n",
        "plt.grid(True)\n",
        "plt.show()\n"
      ],
      "metadata": {
        "colab": {
          "base_uri": "https://localhost:8080/",
          "height": 487
        },
        "id": "-eEHkJgp4sVU",
        "outputId": "b2403a1e-9f7a-4964-a69a-65373f59fbda"
      },
      "execution_count": null,
      "outputs": [
        {
          "output_type": "display_data",
          "data": {
            "text/plain": [
              "<Figure size 800x500 with 1 Axes>"
            ],
            "image/png": "[encoded data removed]"
          },
          "metadata": {}
        }
      ]
    },
    {
      "cell_type": "code",
      "source": [
        "#Que.17 Calculate the interquartile range (IQR) of a dataset\n",
        "\n",
        "import numpy as np\n",
        "import pandas as pd\n",
        "\n",
        "# Simulate data\n",
        "np.random.seed(0)\n",
        "data = np.random.normal(loc=100, scale=20, size=1000)\n",
        "df = pd.DataFrame({'value': data})\n",
        "\n",
        "# Calculate IQR\n",
        "q1 = df['value'].quantile(0.25)\n",
        "q3 = df['value'].quantile(0.75)\n",
        "iqr = q3 - q1\n",
        "\n",
        "print(f\"Q1 (25th percentile): {q1:.2f}\")\n",
        "print(f\"Q3 (75th percentile): {q3:.2f}\")\n",
        "print(f\"IQR: {iqr:.2f}\")\n"
      ],
      "metadata": {
        "colab": {
          "base_uri": "https://localhost:8080/"
        },
        "id": "oIVcEnLV2J9m",
        "outputId": "c0ab43e2-60e7-48a4-d565-ea883e1c3110"
      },
      "execution_count": null,
      "outputs": [
        {
          "output_type": "stream",
          "name": "stdout",
          "text": [
            "Q1 (25th percentile): 86.03\n",
            "Q3 (75th percentile): 112.14\n",
            "IQR: 26.11\n"
          ]
        }
      ]
    },
    {
      "cell_type": "markdown",
      "source": [
        "Que.18 Implement Z-score normalization and explain its significance.\n",
        "\n",
        "   ->  The Z-score normalization (or standardization) transforms the data such\n",
        "       that it has a mean of 0 and a standard deviation of 1. It is done using the following formula:\n",
        "\n",
        "       𝑍 = X - 𝜇\n",
        "           -----\n",
        "            𝜎\n",
        "\n",
        "      Where:\n",
        "      X is an individual data point,\n",
        "      μ is the mean of the dataset,\n",
        "      σ is the standard deviation of the dataset.\n",
        "\n",
        "      Significance of Z-Score Normalization:\n",
        "      Centers data: By subtracting the mean, the data is centered around 0.\n",
        "\n",
        "      Scales data: By dividing by the standard deviation, the data is\n",
        "      scaled so that it has a consistent spread.\n",
        "\n",
        "      Improves performance: Z-score normalization is particularly useful\n",
        "      for machine learning algorithms, especially those based on\n",
        "      distance metrics like k-Nearest Neighbors (k-NN),\n",
        "      Support Vector Machines (SVM), and gradient-based optimization\n",
        "      (e.g., in neural networks)."
      ],
      "metadata": {
        "id": "R4cGNnNk2yQ4"
      }
    },
    {
      "cell_type": "code",
      "source": [
        "import numpy as np\n",
        "import matplotlib.pyplot as plt\n",
        "\n",
        "# Step 1: Generate a sample dataset (random integers)\n",
        "np.random.seed(42)\n",
        "data = np.random.randint(10, 100, size=100)\n",
        "\n",
        "# Step 2: Calculate the mean and standard deviation\n",
        "mean = np.mean(data)\n",
        "std_dev = np.std(data)\n",
        "\n",
        "# Step 3: Perform Z-score normalization\n",
        "z_scores = (data - mean) / std_dev\n",
        "\n",
        "# Step 4: Display the original data and Z-normalized data\n",
        "print(f\"Original Data: {data[:10]}\")  # Display first 10 data points\n",
        "print(f\"Z-Score Normalized Data: {z_scores[:10]}\")  # First 10 normalized data points\n",
        "\n",
        "# Step 5: Plot original vs Z-normalized data\n",
        "plt.figure(figsize=(10, 6))\n",
        "\n",
        "# Plot original data\n",
        "plt.subplot(1, 2, 1)\n",
        "plt.hist(data, bins=15, color='skyblue', edgecolor='black')\n",
        "plt.title('Original Data')\n",
        "plt.xlabel('Value')\n",
        "plt.ylabel('Frequency')\n",
        "\n",
        "# Plot Z-normalized data\n",
        "plt.subplot(1, 2, 2)\n",
        "plt.hist(z_scores, bins=15, color='orange', edgecolor='black')\n",
        "plt.title('Z-Score Normalized Data')\n",
        "plt.xlabel('Z-Score')\n",
        "plt.ylabel('Frequency')\n",
        "\n",
        "plt.tight_layout()\n",
        "plt.show()\n"
      ],
      "metadata": {
        "colab": {
          "base_uri": "https://localhost:8080/",
          "height": 661
        },
        "id": "htw6fMfq2xnD",
        "outputId": "740422f5-940b-4785-cc01-fe52f21bd72f"
      },
      "execution_count": null,
      "outputs": [
        {
          "output_type": "stream",
          "name": "stdout",
          "text": [
            "Original Data: [61 24 81 70 30 92 96 84 84 97]\n",
            "Z-Score Normalized Data: [ 0.15914678 -1.20391592  0.89593743  0.49070257 -0.98287873  1.30117229\n",
            "  1.44853042  1.00645603  1.00645603  1.48536995]\n"
          ]
        },
        {
          "output_type": "display_data",
          "data": {
            "text/plain": [
              "<Figure size 1000x600 with 2 Axes>"
            ],
            "image/png": "[encoded data removed]"
          },
          "metadata": {}
        }
      ]
    },
    {
      "cell_type": "code",
      "source": [
        "#Que.19 Compare two datasets using their standard deviations.\n",
        "\n",
        "import numpy as np\n",
        "\n",
        "# Generate two sample datasets\n",
        "np.random.seed(42)\n",
        "\n",
        "# Dataset 1: Smaller spread, less variation\n",
        "data1 = np.random.normal(loc=50, scale=5, size=1000)  # Mean 50, Std Dev 5\n",
        "\n",
        "# Dataset 2: Larger spread, more variation\n",
        "data2 = np.random.normal(loc=50, scale=15, size=1000)  # Mean 50, Std Dev 15\n",
        "\n",
        "# Calculate standard deviations\n",
        "std_dev1 = np.std(data1)\n",
        "std_dev2 = np.std(data2)\n",
        "\n",
        "# Output the standard deviations\n",
        "print(f\"Standard Deviation of Dataset 1: {std_dev1:.4f}\")\n",
        "print(f\"Standard Deviation of Dataset 2: {std_dev2:.4f}\")\n",
        "\n",
        "# Compare the standard deviations\n",
        "if std_dev1 > std_dev2:\n",
        "    print(\"\\nDataset 1 has more variation than Dataset 2.\")\n",
        "elif std_dev1 < std_dev2:\n",
        "    print(\"\\nDataset 2 has more variation than Dataset 1.\")\n",
        "else:\n",
        "    print(\"\\nBoth datasets have the same variation.\")\n"
      ],
      "metadata": {
        "colab": {
          "base_uri": "https://localhost:8080/"
        },
        "id": "5v0-IdSh652M",
        "outputId": "f24dad13-4630-4a62-aefe-6060d17135c6"
      },
      "execution_count": null,
      "outputs": [
        {
          "output_type": "stream",
          "name": "stdout",
          "text": [
            "Standard Deviation of Dataset 1: 4.8936\n",
            "Standard Deviation of Dataset 2: 14.9543\n",
            "\n",
            "Dataset 2 has more variation than Dataset 1.\n"
          ]
        }
      ]
    },
    {
      "cell_type": "code",
      "source": [
        "#Que.20 Write a Python program to visualize covariance using a heatmap\n",
        "\n",
        "import seaborn as sns\n",
        "import matplotlib.pyplot as plt\n",
        "import pandas as pd\n",
        "import numpy as np\n",
        "\n",
        "# Step 1: Generate a sample dataset (Pandas DataFrame)\n",
        "np.random.seed(42)\n",
        "data = pd.DataFrame({\n",
        "    'A': np.random.randint(10, 100, size=100),\n",
        "    'B': np.random.randint(10, 100, size=100),\n",
        "    'C': np.random.randint(10, 100, size=100),\n",
        "    'D': np.random.randint(10, 100, size=100),\n",
        "})\n",
        "\n",
        "# Step 2: Calculate the covariance matrix\n",
        "cov_matrix = data.cov()\n",
        "\n",
        "# Step 3: Create the heatmap using seaborn\n",
        "plt.figure(figsize=(8, 6))\n",
        "sns.heatmap(cov_matrix, annot=True, cmap='coolwarm', fmt='.2f', linewidths=0.5)\n",
        "plt.title('Covariance Matrix Heatmap')\n",
        "plt.show()\n"
      ],
      "metadata": {
        "colab": {
          "base_uri": "https://localhost:8080/",
          "height": 545
        },
        "id": "BOafYGBC659V",
        "outputId": "056eb46c-d560-40e5-cf6a-b2f5df0a2168"
      },
      "execution_count": null,
      "outputs": [
        {
          "output_type": "display_data",
          "data": {
            "text/plain": [
              "<Figure size 800x600 with 2 Axes>"
            ],
            "image/png": "[encoded data removed]"
          },
          "metadata": {}
        }
      ]
    },
    {
      "cell_type": "code",
      "source": [
        "#Que.21 Use seaborn to create a correlation matrix for a dataset.\n",
        "\n",
        "import seaborn as sns\n",
        "import matplotlib.pyplot as plt\n",
        "import pandas as pd\n",
        "import numpy as np\n",
        "\n",
        "# Step 1: Generate a sample dataset (Pandas DataFrame)\n",
        "np.random.seed(42)\n",
        "data = pd.DataFrame({\n",
        "    'A': np.random.randint(10, 100, size=100),\n",
        "    'B': np.random.randint(10, 100, size=100),\n",
        "    'C': np.random.randint(10, 100, size=100),\n",
        "    'D': np.random.randint(10, 100, size=100),\n",
        "})\n",
        "\n",
        "# Step 2: Calculate the correlation matrix\n",
        "corr_matrix = data.corr()\n",
        "\n",
        "# Step 3: Create the heatmap using seaborn\n",
        "plt.figure(figsize=(8, 6))\n",
        "sns.heatmap(corr_matrix, annot=True, cmap='coolwarm', fmt='.2f', linewidths=0.5)\n",
        "plt.title('Correlation Matrix Heatmap')\n",
        "plt.show()\n"
      ],
      "metadata": {
        "colab": {
          "base_uri": "https://localhost:8080/",
          "height": 545
        },
        "id": "wkG26GyM66DG",
        "outputId": "5ad0e265-59bb-4836-cb07-5887412e0dba"
      },
      "execution_count": null,
      "outputs": [
        {
          "output_type": "display_data",
          "data": {
            "text/plain": [
              "<Figure size 800x600 with 2 Axes>"
            ],
            "image/png": "[encoded data removed]"
          },
          "metadata": {}
        }
      ]
    },
    {
      "cell_type": "code",
      "source": [
        "#Que.22 Generate a dataset and implement both variance and standard deviation computations.\n",
        "\n",
        "import numpy as np\n",
        "\n",
        "# Step 1: Generate a sample dataset\n",
        "np.random.seed(42)  # for reproducibility\n",
        "data = np.random.randint(10, 100, size=10)  # 10 random integers between 10 and 99\n",
        "print(\"Dataset:\", data)\n",
        "\n",
        "# Step 2: Manual calculation\n",
        "def manual_variance_std(data):\n",
        "    n = len(data)\n",
        "    mean = sum(data) / n\n",
        "    variance = sum((x - mean) ** 2 for x in data) / n  # Population variance\n",
        "    std_dev = variance ** 0.5\n",
        "    return variance, std_dev\n",
        "\n",
        "# Step 3: Using NumPy (Population by default)\n",
        "np_variance = np.var(data)  # Population variance\n",
        "np_std_dev = np.std(data)   # Population standard deviation\n",
        "\n",
        "# Step 4: Display results\n",
        "manual_var, manual_std = manual_variance_std(data)\n",
        "print(\"\\nManual Calculation:\")\n",
        "print(f\"Variance: {manual_var:.4f}\")\n",
        "print(f\"Standard Deviation: {manual_std:.4f}\")\n",
        "\n",
        "print(\"\\nNumPy Calculation:\")\n",
        "print(f\"Variance: {np_variance:.4f}\")\n",
        "print(f\"Standard Deviation: {np_std_dev:.4f}\")\n"
      ],
      "metadata": {
        "colab": {
          "base_uri": "https://localhost:8080/"
        },
        "id": "-L8ksA9r66Kx",
        "outputId": "54ae3850-258a-43c9-d379-6d0fe8fbb3c2"
      },
      "execution_count": null,
      "outputs": [
        {
          "output_type": "stream",
          "name": "stdout",
          "text": [
            "Dataset: [61 24 81 70 30 92 96 84 84 97]\n",
            "\n",
            "Manual Calculation:\n",
            "Variance: 616.2900\n",
            "Standard Deviation: 24.8252\n",
            "\n",
            "NumPy Calculation:\n",
            "Variance: 616.2900\n",
            "Standard Deviation: 24.8252\n"
          ]
        }
      ]
    },
    {
      "cell_type": "code",
      "source": [
        "#Que.23 Visualize skewness and kurtosis using Python libraries like matplotlib or seaborn.\n",
        "\n",
        "import numpy as np\n",
        "import seaborn as sns\n",
        "import matplotlib.pyplot as plt\n",
        "from scipy.stats import skew, kurtosis\n",
        "\n",
        "# Generate a dataset (right-skewed and left-skewed)\n",
        "np.random.seed(42)\n",
        "\n",
        "# Right-skewed data\n",
        "right_skewed = np.random.exponential(scale=2.0, size=1000)\n",
        "\n",
        "# Left-skewed data (negative exponential)\n",
        "left_skewed = -np.random.exponential(scale=2.0, size=1000)\n",
        "\n",
        "# Calculate skewness and kurtosis\n",
        "right_skew = skew(right_skewed)\n",
        "left_skew = skew(left_skewed)\n",
        "\n",
        "right_kurt = kurtosis(right_skewed)\n",
        "left_kurt = kurtosis(left_skewed)\n",
        "\n",
        "# Set up the plot\n",
        "fig, axes = plt.subplots(1, 2, figsize=(14, 6))\n",
        "\n",
        "# Plot right-skewed data (positive skew)\n",
        "sns.histplot(right_skewed, bins=30, kde=True, color='orange', ax=axes[0])\n",
        "axes[0].set_title(f'Right-Skewed Distribution\\nSkew = {right_skew:.2f}, Kurt = {right_kurt:.2f}')\n",
        "axes[0].set_xlabel('Value')\n",
        "axes[0].set_ylabel('Frequency')\n",
        "\n",
        "# Plot left-skewed data (negative skew)\n",
        "sns.histplot(left_skewed, bins=30, kde=True, color='skyblue', ax=axes[1])\n",
        "axes[1].set_title(f'Left-Skewed Distribution\\nSkew = {left_skew:.2f}, Kurt = {left_kurt:.2f}')\n",
        "axes[1].set_xlabel('Value')\n",
        "axes[1].set_ylabel('Frequency')\n",
        "\n",
        "# Show the plot\n",
        "plt.tight_layout()\n",
        "plt.show()\n"
      ],
      "metadata": {
        "colab": {
          "base_uri": "https://localhost:8080/",
          "height": 589
        },
        "id": "GZCSduFx66SA",
        "outputId": "c02c088e-2f9e-4431-b11e-55f342571909"
      },
      "execution_count": null,
      "outputs": [
        {
          "output_type": "display_data",
          "data": {
            "text/plain": [
              "<Figure size 1400x600 with 2 Axes>"
            ],
            "image/png": "[encoded data removed]"
          },
          "metadata": {}
        }
      ]
    },
    {
      "cell_type": "code",
      "source": [
        "#Que.24 Implement the Pearson and Spearman correlation coefficients for a dataset.\n",
        "\n",
        "#Pearson Correlation:\n",
        "#Measures the linear relationship between two variables. It ranges from -1 (perfect negative linear correlation) to +1\n",
        "#(perfect positive linear correlation).\n",
        "#It's the standard method to calculate correlation when data is linearly related.\n",
        "\n",
        "\n",
        "#Spearman Correlation:\n",
        "#Measures the rank-order relationship between two variables.\n",
        "#It is a non-parametric measure and doesn't assume the data is linearly related.\n",
        "#It's useful when the relationship might not be linear, but the ranks (order)\n",
        "#are more important.\n",
        "#It works with monotonic relationships (one variable consistently increases\n",
        "#or decreases as the other does).\n",
        "\n",
        "import numpy as np\n",
        "from scipy.stats import pearsonr, spearmanr\n",
        "\n",
        "# Example datasets\n",
        "x = [2, 4, 6, 8, 10]\n",
        "y = [1, 3, 2, 5, 7]\n",
        "\n",
        "# Pearson correlation (for linear relationships)\n",
        "pearson_corr, _ = pearsonr(x, y)\n",
        "\n",
        "# Spearman correlation (for rank-order relationships)\n",
        "spearman_corr, _ = spearmanr(x, y)\n",
        "\n",
        "# Output the results\n",
        "print(f\"Pearson Correlation Coefficient: {pearson_corr:.4f}\")\n",
        "print(f\"Spearman Correlation Coefficient: {spearman_corr:.4f}\")\n",
        "\n"
      ],
      "metadata": {
        "colab": {
          "base_uri": "https://localhost:8080/"
        },
        "id": "cxnVpMt166Y_",
        "outputId": "c53381d5-31e3-468c-994c-dbd8e82ab3d1"
      },
      "execution_count": null,
      "outputs": [
        {
          "output_type": "stream",
          "name": "stdout",
          "text": [
            "Pearson Correlation Coefficient: 0.9191\n",
            "Spearman Correlation Coefficient: 0.9000\n"
          ]
        }
      ]
    }
  ]
}